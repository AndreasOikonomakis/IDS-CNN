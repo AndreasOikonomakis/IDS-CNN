{
 "cells": [
  {
   "cell_type": "code",
   "execution_count": 6,
   "metadata": {},
   "outputs": [],
   "source": [
    "import numpy as np\n",
    "import os\n",
    "import PIL\n",
    "import PIL.Image\n",
    "import tensorflow as tf\n",
    "import pathlib"
   ]
  },
  {
   "cell_type": "code",
   "execution_count": 55,
   "metadata": {},
   "outputs": [],
   "source": [
    "# data_dir = pathlib.Path(\"dataset/train\")\n",
    "# image_count = len(list(data_dir.glob('*/*.png')))\n",
    "# benign = list(data_dir.glob('0/*'))\n",
    "# malicious = list(data_dir.glob('1/*'))\n",
    "\n",
    "# data_array = np.empty((0, 2))\n",
    "# for ben in benign:\n",
    "#     ar=np.asarray(PIL.Image.open(ben))\n",
    "#     data_array = np.vstack((data_array, np.array([ar, 0])))\n",
    "\n",
    "    \n",
    "# for mal in malicious:\n",
    "#     ar=np.asarray(PIL.Image.open(mal))\n",
    "#     data_array = np.vstack((data_array, np.array([ar, 1])))\n",
    "\n",
    "# np.save(\"converted_dataset\", np.array(data_array))\n",
    "\n",
    "# data_dir = pathlib.Path(\"dataset/test\")\n",
    "# image_count = len(list(data_dir.glob('*/*.png')))\n",
    "# benign = list(data_dir.glob('0/*'))\n",
    "# malicious = list(data_dir.glob('1/*'))\n",
    "\n",
    "# data_array = np.empty((0, 2))\n",
    "# for ben in benign:\n",
    "#     ar=np.asarray(PIL.Image.open(ben))\n",
    "#     data_array = np.vstack((data_array, np.array([ar, 0])))\n",
    "\n",
    "    \n",
    "# for mal in malicious:\n",
    "#     ar=np.asarray(PIL.Image.open(mal))\n",
    "#     data_array = np.vstack((data_array, np.array([ar, 1])))\n",
    "\n",
    "# np.save(\"converted_test_dataset\", np.array(data_array))"
   ]
  },
  {
   "cell_type": "code",
   "execution_count": 49,
   "metadata": {},
   "outputs": [],
   "source": [
    "dataset = np.load(\"converted_dataset.npy\",allow_pickle=True)\n",
    "np.random.shuffle(dataset)"
   ]
  },
  {
   "cell_type": "code",
   "execution_count": 50,
   "metadata": {},
   "outputs": [],
   "source": [
    "N = np.shape(data_array)[0]\n",
    "\n",
    "x_train = dataset[:N, 0]\n",
    "y_train = dataset[:N, 1]\n",
    "\n"
   ]
  },
  {
   "cell_type": "code",
   "execution_count": 53,
   "metadata": {},
   "outputs": [
    {
     "name": "stdout",
     "output_type": "stream",
     "text": [
      "(28, 28)\n"
     ]
    }
   ],
   "source": [
    "print(x_train[0].shape)"
   ]
  },
  {
   "cell_type": "code",
   "execution_count": null,
   "metadata": {},
   "outputs": [],
   "source": []
  }
 ],
 "metadata": {
  "kernelspec": {
   "display_name": "Python 3",
   "language": "python",
   "name": "python3"
  },
  "language_info": {
   "codemirror_mode": {
    "name": "ipython",
    "version": 3
   },
   "file_extension": ".py",
   "mimetype": "text/x-python",
   "name": "python",
   "nbconvert_exporter": "python",
   "pygments_lexer": "ipython3",
   "version": "3.7.9"
  }
 },
 "nbformat": 4,
 "nbformat_minor": 4
}
