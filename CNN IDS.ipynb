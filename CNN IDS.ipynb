{
 "cells": [
  {
   "cell_type": "code",
   "execution_count": 1,
   "metadata": {},
   "outputs": [],
   "source": [
    "import numpy as np\n",
    "import tensorflow as tf\n",
    "from tensorflow.keras import Sequential\n",
    "from tensorflow.keras.optimizers import Adam\n",
    "from tensorflow.keras.layers import Dense\n",
    "from tensorflow.keras.layers import Conv2D\n",
    "from tensorflow.keras.layers import MaxPool2D\n",
    "from tensorflow.keras.layers import Flatten\n",
    "from tensorflow.keras.layers import Dropout,Activation,AveragePooling2D,MaxPooling2D,BatchNormalization,GlobalAveragePooling2D\n",
    "import sklearn.metrics\n",
    "import plotly.express as px\n",
    "from conf_matrix_vis import make_confusion_matrix\n",
    "from sklearn.metrics import confusion_matrix\n",
    "\n",
    "import os"
   ]
  },
  {
   "cell_type": "code",
   "execution_count": 2,
   "metadata": {},
   "outputs": [],
   "source": [
    "dataset = np.load(\"/home/localadmin/csvs/converted_dataset.npy\",allow_pickle=True)\n",
    "np.random.shuffle(dataset)\n",
    "\n",
    "\n",
    "test_dataset = np.load(\"/home/localadmin/csvs/converted_test_dataset.npy\",allow_pickle=True)\n",
    "np.random.shuffle(test_dataset)\n",
    "\n",
    "\n",
    "\n",
    "img_row=28\n",
    "img_col=28\n",
    "\n",
    "\n",
    "N = np.shape(dataset)[0]\n",
    "N2 = np.shape(test_dataset)[0]\n",
    "\n",
    "x_train = dataset[:N, 0]\n",
    "x_train = np.array([x.reshape(img_row, img_col, 1) for x in x_train])\n",
    "y_train = dataset[:N, 1]\n",
    "y_train = np.array([[x] for x in y_train])\n",
    "\n",
    "x_test = test_dataset[:N2, 0]\n",
    "x_test = np.array([x.reshape(img_row, img_col, 1) for x in x_test])\n",
    "y_test = test_dataset[:N2, 1]\n",
    "y_test = np.array([[x] for x in y_test])\n",
    "\n"
   ]
  },
  {
   "cell_type": "code",
   "execution_count": 3,
   "metadata": {},
   "outputs": [],
   "source": [
    "model = Sequential()\n",
    "model.add(Conv2D(32, (3, 3), activation='relu', input_shape=(28, 28, 1)))\n",
    "model.add(MaxPooling2D((2, 2)))\n",
    "model.add(Flatten())\n",
    "model.add(Dense(100, activation='relu'))\n",
    "model.add(Dense(1, activation='sigmoid'))"
   ]
  },
  {
   "cell_type": "code",
   "execution_count": 4,
   "metadata": {},
   "outputs": [],
   "source": [
    "model.compile(loss='binary_crossentropy',\n",
    "              optimizer=Adam(learning_rate=0.001), \n",
    "              metrics=['accuracy'])\n",
    "\n"
   ]
  },
  {
   "cell_type": "code",
   "execution_count": null,
   "metadata": {},
   "outputs": [
    {
     "name": "stdout",
     "output_type": "stream",
     "text": [
      "Epoch 1/10\n",
      "1649/1649 - 11s - loss: 0.1877 - accuracy: 0.9473 - val_loss: 0.0784 - val_accuracy: 0.9727\n",
      "Epoch 2/10\n",
      "1649/1649 - 10s - loss: 0.0647 - accuracy: 0.9805 - val_loss: 0.0559 - val_accuracy: 0.9829\n",
      "Epoch 3/10\n",
      "1649/1649 - 10s - loss: 0.0487 - accuracy: 0.9853 - val_loss: 0.0683 - val_accuracy: 0.9871\n",
      "Epoch 4/10\n",
      "1649/1649 - 10s - loss: 0.0415 - accuracy: 0.9871 - val_loss: 0.0433 - val_accuracy: 0.9880\n",
      "Epoch 5/10\n",
      "1649/1649 - 10s - loss: 0.0343 - accuracy: 0.9889 - val_loss: 0.0360 - val_accuracy: 0.9885\n",
      "Epoch 6/10\n",
      "1649/1649 - 10s - loss: 0.0310 - accuracy: 0.9901 - val_loss: 0.0491 - val_accuracy: 0.9868\n",
      "Epoch 7/10\n",
      "1649/1649 - 10s - loss: 0.0280 - accuracy: 0.9909 - val_loss: 0.0353 - val_accuracy: 0.9902\n",
      "Epoch 8/10\n",
      "1649/1649 - 10s - loss: 0.0268 - accuracy: 0.9921 - val_loss: 0.0343 - val_accuracy: 0.9903\n",
      "Epoch 9/10\n",
      "1649/1649 - 10s - loss: 0.0246 - accuracy: 0.9922 - val_loss: 0.0337 - val_accuracy: 0.9911\n",
      "Epoch 10/10\n"
     ]
    }
   ],
   "source": [
    "history = model.fit(x_train,y_train,\n",
    "              batch_size=32,\n",
    "              epochs=10,\n",
    "              validation_split=0.3,\n",
    "              shuffle=True,\n",
    "              verbose=2)"
   ]
  },
  {
   "cell_type": "code",
   "execution_count": null,
   "metadata": {},
   "outputs": [],
   "source": [
    "predictions = model.predict(x_test)"
   ]
  },
  {
   "cell_type": "code",
   "execution_count": null,
   "metadata": {},
   "outputs": [],
   "source": [
    "rounded = [[round(x[0])] for x in predictions]\n",
    "\n",
    "target_names = [\"malicious\",\"benign\"]\n",
    "print(sklearn.metrics.classification_report(y_test,rounded,labels = [1,0], target_names=target_names))"
   ]
  },
  {
   "cell_type": "code",
   "execution_count": null,
   "metadata": {},
   "outputs": [],
   "source": [
    "cf_matrix = confusion_matrix(y_test,rounded)\n",
    "make_confusion_matrix(cf_matrix, figsize=(8,6),categories=[\"malicious\",\"normal\"], cbar=False)"
   ]
  }
 ],
 "metadata": {
  "kernelspec": {
   "display_name": "Python 3",
   "language": "python",
   "name": "python3"
  },
  "language_info": {
   "codemirror_mode": {
    "name": "ipython",
    "version": 3
   },
   "file_extension": ".py",
   "mimetype": "text/x-python",
   "name": "python",
   "nbconvert_exporter": "python",
   "pygments_lexer": "ipython3",
   "version": "3.8.3"
  }
 },
 "nbformat": 4,
 "nbformat_minor": 4
}
